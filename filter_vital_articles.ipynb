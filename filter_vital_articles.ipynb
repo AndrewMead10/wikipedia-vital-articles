{
 "cells": [
  {
   "cell_type": "code",
   "execution_count": 1,
   "metadata": {},
   "outputs": [
    {
     "data": {
      "application/vnd.jupyter.widget-view+json": {
       "model_id": "7f9674b335e747e6aa324863a8d7512c",
       "version_major": 2,
       "version_minor": 0
      },
      "text/plain": [
       "Downloading data files:   0%|          | 0/1 [00:00<?, ?it/s]"
      ]
     },
     "metadata": {},
     "output_type": "display_data"
    },
    {
     "data": {
      "application/vnd.jupyter.widget-view+json": {
       "model_id": "eab0cf98fc65450eaacacad21b30e2e0",
       "version_major": 2,
       "version_minor": 0
      },
      "text/plain": [
       "Extracting data files:   0%|          | 0/1 [00:00<?, ?it/s]"
      ]
     },
     "metadata": {},
     "output_type": "display_data"
    },
    {
     "data": {
      "application/vnd.jupyter.widget-view+json": {
       "model_id": "db572aac568b4b1ebd06c37833b85934",
       "version_major": 2,
       "version_minor": 0
      },
      "text/plain": [
       "Downloading data files:   0%|          | 0/1 [00:00<?, ?it/s]"
      ]
     },
     "metadata": {},
     "output_type": "display_data"
    },
    {
     "data": {
      "application/vnd.jupyter.widget-view+json": {
       "model_id": "bcb973614e5c48018e2e26279ae3e51e",
       "version_major": 2,
       "version_minor": 0
      },
      "text/plain": [
       "Generating train split: 0 examples [00:00, ? examples/s]"
      ]
     },
     "metadata": {},
     "output_type": "display_data"
    },
    {
     "name": "stdout",
     "output_type": "stream",
     "text": [
      "Extracting content from /mnt/d/datasets/downloads/857dfbe3f55bd378c379aaa2fd24a2f96c05747fbce0713c9d17f28485c0dd95\n",
      "Extracting content fromExtracting content from  Extracting content from/mnt/d/datasets/downloads/c7656a812ca7e984fba82f35cbcb3d0587815b152ab1e51b5dff3f500c24f128/mnt/d/datasets/downloads/d96155d173be521ce90e436f10a502a46711bb08871aceac68241cfbe91ed2ceExtracting content from\n",
      "  Extracting content fromExtracting content from/mnt/d/datasets/downloads/5a6cb88e39d1c88284aee5d60423aaf2fb63fa1c0591971e43e76250168ffdeb /mnt/d/datasets/downloads/8e44c7fe1fe5cc83c43e0c744c3bb3ee84dbc45438812f903a8e2b5f06d7698d\n",
      "/mnt/d/datasets/downloads/c7ecc2d088152936964fee96e9bc3e3ef73b836ac64f2609932e391d5df20faa \n",
      "\n",
      "/mnt/d/datasets/downloads/d0af3f9c059f67ec29738095a5d9846afa833535048878ce0a99a075d53925bd\n",
      "\n",
      "Extracting content from /mnt/d/datasets/downloads/3cf6627528185b053e57843ca731130ac73bd87c9a3d5c16d9f94c753503af21Extracting content from\n",
      " /mnt/d/datasets/downloads/ee3036f4b1dc806278d42dea1b6b0ae85a35d7412a0a8205d86ebcef2eb21073\n",
      "Extracting content from Extracting content from/mnt/d/datasets/downloads/678e779862cfecdf7de4d8d76b25d0f4e6bf938512c0ac32baf44d740c153a17Extracting content from\n",
      " Extracting content from/mnt/d/datasets/downloads/1eafeafa19bfa0cdeea2dab03f537b166fca7431a217e584cbabbf7138cc6b8e Extracting content from\n",
      "  Extracting content from/mnt/d/datasets/downloads/f985d7ca70864a95c49d10ff548c4778bca5bfade315320344d4d5d915680273Extracting content from /mnt/d/datasets/downloads/6caa743782715a7cbf8aa664418d9ff8cb462d3f3af329200b70e355d7f4224b\n",
      "\n",
      "/mnt/d/datasets/downloads/d382307244b2ca8538259ad146d9c9a3fc2b4bdc71a5aa521ff6fbd8df969a08 /mnt/d/datasets/downloads/07a7795fac4225bf4286a60a5b22a331920c93bfdb2ee2b6b65721e1018d4761\n",
      "/mnt/d/datasets/downloads/11241af46b9db78263c966b4ab26bbf73054558b1933ec09e4d2032a8e9b2a3b\n",
      "\n",
      "Extracting content fromExtracting content from /mnt/d/datasets/downloads/ffff641988d85dd152cdc2c2ce5c835c12033ee21096ab58f2a07845b81656ea \n",
      "Extracting content fromExtracting content from/mnt/d/datasets/downloads/5d59788e7800e4d9ad1b4e6f67f84c9d6d29ab52a13c964d00fa80faee3c54b3 /mnt/d/datasets/downloads/59d28776dd716ad1c761fef2497a4903a3bd8d5100dfd272b9b4c41cfa1a2885\n",
      "\n",
      " /mnt/d/datasets/downloads/fc461167d7c0b70787bc9391ae95d849d24be050d8997d79303125785484fa87\n",
      "Extracting content from /mnt/d/datasets/downloads/1dbc07dc75fa9ae95da0df9b7afbeba6da1f2849300484b136e01ffe9440a1bc\n",
      "Extracting content from /mnt/d/datasets/downloads/7ab1555d54c205a7ec0139dc9614aa502a5ada982fed8d568b81ecf85a337801\n",
      "Extracting content from /mnt/d/datasets/downloads/511c253c7b8367d0321977aceb13a416bf7fa2386c3c1c3272a1bdd8a01f3554\n",
      "Extracting content from /mnt/d/datasets/downloads/62ccfa7f32cd164dc9eae4dcfadce249ce10a6a3a63e65f2d93430c53f9af372\n",
      "Extracting content from /mnt/d/datasets/downloads/2681253931214652f3185010f3c65ed3b16b97c11e250ef81a19adb4b9084cf5\n",
      "Extracting content from /mnt/d/datasets/downloads/f96259693200685c6ac0830580eb881f7f483453d051634bb4a235314d5ae3a8\n",
      "Extracting content from /mnt/d/datasets/downloads/4befdd493c6f76a4cc2e39780e3f490d66e37edafb349231026f3e72d1c49624\n",
      "Extracting content from /mnt/d/datasets/downloads/8aed6d569fcd9f0d4032baf199bef18dff2ff454054fcbd5dd09469de638bb6f\n",
      "Extracting content from /mnt/d/datasets/downloads/c468a4e1dab9e7aa8066432b6b6f3931710ecae077c3f954360ef276d66956c4\n",
      "Extracting content from /mnt/d/datasets/downloads/53f3b3ffe3aaf045f28f03267624c3d9bbf5e5107cef16ee69ae998775483cbf\n",
      "Extracting content from /mnt/d/datasets/downloads/b074b8876c827891529ad9a08d326e73678def121145870e47b02b458757a4ae\n",
      "Extracting content from /mnt/d/datasets/downloads/fc0b9985d9ed60f2a25257ad8c257702ee363e0d7aa2b6d9857cb218e3f36692\n",
      "Extracting content from /mnt/d/datasets/downloads/2c3da245903d3417b3c793c4ed336de19a514af4850884c9723c2e899b00aac2\n",
      "Extracting content from /mnt/d/datasets/downloads/eedde29b5b03e800d6a6050e91f78ff01a32577b4af9c603486b0ba0e05aad08\n",
      "Extracting content from /mnt/d/datasets/downloads/a839b20adb0915582f66282301f17bdbdaef5fbd18a1d5111cfb27124268e570\n",
      "Extracting content from /mnt/d/datasets/downloads/a34c6f88d4e42e43c3696c8c143f59d9a064091d9827f0c8547c924a04e2b00f\n",
      "Extracting content from /mnt/d/datasets/downloads/9ae0ef0727dbd50b04d52bb4dd6a4ea09d7c16ce296f5b6e9ba2aec759e2c593\n",
      "Extracting content from /mnt/d/datasets/downloads/97227d95f15f032eaa73bb067e0036e36c1df8f005174db789c1cc623c41a407\n",
      "Extracting content from /mnt/d/datasets/downloads/7df56ad7c107443b84f2f67c5f85f57e317d303eedfd191c7efe077d56bbd8ae\n",
      "Extracting content from /mnt/d/datasets/downloads/b210251e40960eccd2794f175f6109b7bb2085687fda62ac49b86a1f7f8bd9a4\n",
      "Extracting content from /mnt/d/datasets/downloads/dc8ac3cbbd214da082924194cc47c99d43d64b8a6eaeae09ff27d53170ffb7b1\n",
      "Extracting content from /mnt/d/datasets/downloads/d3640ccc474ceea53894a660f65e2699c3ae3adbf841f1056d697218c775ae34\n",
      "Extracting content from /mnt/d/datasets/downloads/be596f15bc5f1cb3a9a0309f5452e0ac12db8ba92056fb61f4365b4700d5d7a6\n",
      "Extracting content from /mnt/d/datasets/downloads/a110048f416a34ebcb816c163e3fb7b9b6ce39bbafdfd480db73e1d20138fa5b\n",
      "Extracting content from /mnt/d/datasets/downloads/42da4a57d699fe94f2a1d50e1b84e8f44250f9c21d4e1593e35310de4c7a9cbd\n",
      "Extracting content from /mnt/d/datasets/downloads/fb33cdfc7f68b9a9a2892ad3eb838408c19f41e49534da129dc9182504d6a0f0\n",
      "Extracting content from /mnt/d/datasets/downloads/e0de8de0fcccfed24ef14cf134575daa40f600618039052a0da6c836c0931e87\n",
      "Extracting content from /mnt/d/datasets/downloads/677cbab4b663d9d84728ae242bf21becf14fd90e0143695ef6b97c1c4726a563\n",
      "Extracting content from /mnt/d/datasets/downloads/4b0502b6a3d26e67cde167f099c95781de3ba64ea26c902a024c850f5fa65c5a\n",
      "Extracting content from /mnt/d/datasets/downloads/56208c7be5bdf5297d9e7fa5e91f4294003704f41fa203a31c741537e5e3b39d\n",
      "Extracting content from /mnt/d/datasets/downloads/5054e4e609e8b911c8a9d2b19b59a4f664f5e3a6d21916a6c6c8e085b1600197\n",
      "Extracting content from /mnt/d/datasets/downloads/ab7135acce6fecc221994d557ab4d5f1bda0098760300fef20f0238b4e55feed\n",
      "Extracting content from /mnt/d/datasets/downloads/128a35d21298c106adf880b9d54850485c9cce0960b8b397a76eb52e59006ae5\n",
      "Extracting content from /mnt/d/datasets/downloads/6598dd330e919b31cd4528086ba942ec9595d83d61dbd75b6547896da5303e69\n",
      "Extracting content from /mnt/d/datasets/downloads/d769fac4348da7fb3a4ce19c65c4416ab2461f619fc3b0d182c9e62e30f44db8\n",
      "Extracting content from /mnt/d/datasets/downloads/9c574a628c6bd4ebb8d32f13e0588ea5b9111bc58ad999961ffca0c47bfb54fe\n",
      "Extracting content from /mnt/d/datasets/downloads/a233827b988bb682044b66c707cda5d78af79c254c066d0cc13327a94c4f5cfd\n",
      "Extracting content from /mnt/d/datasets/downloads/1d4db8af064c73f8b1afcb3f5ecdf467fe6629c0d24616e8a493a90da355c9b7\n",
      "Extracting content from /mnt/d/datasets/downloads/e40322f5d9fd773e1d4547d98ff63ca937bb96c2ae98a0edfccf03f7ced7bce5\n",
      "Extracting content from /mnt/d/datasets/downloads/d2cabbdc3ba591283a212a0ea7af94846842596511b949adfb5dd49c728edd92\n",
      "Extracting content from /mnt/d/datasets/downloads/ed0a4c9fd553dac7a9e781df7bfcec91abb730b601520af164e274bdd15a01ed\n",
      "Extracting content from /mnt/d/datasets/downloads/6a49a9fbb8f061f0f921355d76ca984726aac16ac6476f3b2a5a03577efaa7f1\n",
      "Extracting content from /mnt/d/datasets/downloads/fe9ead382c46df5c43f71a93602cfa7ccd5f132c2fb57e3d43fdaa4b5de47d4c\n",
      "Extracting content from /mnt/d/datasets/downloads/af76e553711afbc7bc0635871f894a6bd641a450339a2f3cbce75013b5985c9e\n",
      "Extracting content from /mnt/d/datasets/downloads/319c6ff62fdd1f65b457fbbe51ba5ef88cc3d2af928f1e81b45d4ade48f1797a\n",
      "Extracting content from /mnt/d/datasets/downloads/f3bbc344c0d3c85621e3459307f46bb852f83118e76e738ba5aef6c9466fa11e\n"
     ]
    }
   ],
   "source": [
    "from datasets import load_dataset\n",
    "\n",
    "# D:\\\\datasets\n",
    "wikipedia = load_dataset(\n",
    "    \"wikipedia\", date=\"20240320\", language=\"en\", cache_dir=\"/mnt/d/datasets\", num_proc=20\n",
    ")\n"
   ]
  },
  {
   "cell_type": "code",
   "execution_count": 44,
   "metadata": {},
   "outputs": [],
   "source": [
    "\n",
    "base_wikipedia_url = \"https://en.wikipedia.org\"\n",
    "\n",
    "# /mnt/c/Users/andre/OneDrive/Documents/coding projects/chunk_wikipedia/scrape_vital_articles/vital_article_links.txt\n",
    "# scrape_vital_articles/vital_article_links.txt\n",
    "with open(\"scrape_vital_articles/vital_article_links.txt\", \"r\") as f:\n",
    "    vital_article_urls_file = f.readlines()\n",
    "\n",
    "vital_article_urls = set([\n",
    "    base_wikipedia_url + url.strip().replace(\"_\", \"%20\").replace(\"(\", \"%28\").replace(\")\", \"%29\").replace(\",\", \"%2C\").replace(\"'\", \"%27\").replace('\"', '%22').replace(\"!\", \"%21\").replace(\":\", \"%3A\")  for url in vital_article_urls_file\n",
    "])\n",
    "\n",
    "# .replace('\"', '%22').replace(\"-\", \"\")"
   ]
  },
  {
   "cell_type": "code",
   "execution_count": 45,
   "metadata": {},
   "outputs": [
    {
     "data": {
      "application/vnd.jupyter.widget-view+json": {
       "model_id": "69b7a897035b490faffd11fc2f0f3be5",
       "version_major": 2,
       "version_minor": 0
      },
      "text/plain": [
       "Filter (num_proc=20):   0%|          | 0/6797834 [00:00<?, ? examples/s]"
      ]
     },
     "metadata": {},
     "output_type": "display_data"
    },
    {
     "name": "stdout",
     "output_type": "stream",
     "text": [
      "DatasetDict({\n",
      "    train: Dataset({\n",
      "        features: ['id', 'url', 'title', 'text'],\n",
      "        num_rows: 49917\n",
      "    })\n",
      "})\n"
     ]
    }
   ],
   "source": [
    "filtered_wikipedia = wikipedia.filter(lambda x: x[\"url\"] in vital_article_urls, num_proc=20)\n",
    "\n",
    "print(filtered_wikipedia)"
   ]
  },
  {
   "cell_type": "code",
   "execution_count": 46,
   "metadata": {},
   "outputs": [],
   "source": [
    "dataset_urls = set(wikipedia['train'][\"url\"])"
   ]
  },
  {
   "cell_type": "code",
   "execution_count": 47,
   "metadata": {},
   "outputs": [
    {
     "name": "stdout",
     "output_type": "stream",
     "text": [
      "33\n"
     ]
    },
    {
     "data": {
      "text/plain": [
       "{'https://en.wikipedia.org#Engineering',\n",
       " 'https://en.wikipedia.org#Machinery%20and%20tools',\n",
       " 'https://en.wikipedia.org#Military%20technology',\n",
       " 'https://en.wikipedia.org#Military%20technology%20%28303%20articles%29',\n",
       " 'https://en.wikipedia.org/wiki/Barbara%20H.%20Partee',\n",
       " 'https://en.wikipedia.org/wiki/Donkey%20Kong%20%281981%20video%20game%29',\n",
       " 'https://en.wikipedia.org/wiki/Ecological%20restoration',\n",
       " 'https://en.wikipedia.org/wiki/Flavius%20Aetius%20%28magister%20militum%29',\n",
       " 'https://en.wikipedia.org/wiki/History%20of%20Agriculture',\n",
       " 'https://en.wikipedia.org/wiki/History%20of%20atomic%20theory',\n",
       " 'https://en.wikipedia.org/wiki/Internal%20condom',\n",
       " 'https://en.wikipedia.org/wiki/Kim%20Yo-jong',\n",
       " 'https://en.wikipedia.org/wiki/Lead-acid%20battery',\n",
       " 'https://en.wikipedia.org/wiki/M*A*S*H%20%28TV%20series%29',\n",
       " 'https://en.wikipedia.org/wiki/Molten-salt%20reactor',\n",
       " 'https://en.wikipedia.org/wiki/Mumtaz%20%28Indian%20actress%29',\n",
       " 'https://en.wikipedia.org/wiki/Na%20Hye-s%C5%8Fk',\n",
       " 'https://en.wikipedia.org/wiki/Obon',\n",
       " 'https://en.wikipedia.org/wiki/Paris%20Street;%20Rainy%20Day',\n",
       " 'https://en.wikipedia.org/wiki/Sagittarius%20A*',\n",
       " 'https://en.wikipedia.org/wiki/Selective%20Breeding',\n",
       " 'https://en.wikipedia.org/wiki/Spiritualism%20%28movement%29',\n",
       " 'https://en.wikipedia.org/wiki/Synapsida',\n",
       " 'https://en.wikipedia.org/wiki/The%20Boondocks%20%28TV%20series%29',\n",
       " 'https://en.wikipedia.org/wiki/Wikipedia%3AVital%20articles',\n",
       " 'https://en.wikipedia.org/wiki/Wikipedia%3AVital%20articles/Expanded/Everyday%20life',\n",
       " 'https://en.wikipedia.org/wiki/Wikipedia%3AVital%20articles/Expanded/Mathematics',\n",
       " 'https://en.wikipedia.org/wiki/Wikipedia%3AVital%20articles/Expanded/Mathematics#Probability%20and%20statistics%20.2841%20articles.29',\n",
       " 'https://en.wikipedia.org/wiki/Wikipedia%3AVital%20articles/Expanded/Society%20and%20social%20sciences#Business%20and%20economics%20.28117%20articles.29',\n",
       " 'https://en.wikipedia.org/wiki/Wikipedia%3AVital%20articles/Expanded/Technology',\n",
       " 'https://en.wikipedia.org/wiki/Yakub%20Beg%20of%20Yettishar',\n",
       " 'https://en.wikipedia.org/wiki/Yemeni%20crisis',\n",
       " 'https://en.wikipedia.org/wiki/Zoe%20Porphyrogenita'}"
      ]
     },
     "execution_count": 47,
     "metadata": {},
     "output_type": "execute_result"
    }
   ],
   "source": [
    "# what urls are in vital_article_urls that are not in dataset_urls\n",
    "missing_urls = vital_article_urls - dataset_urls\n",
    "print(len(missing_urls))\n",
    "missing_urls\n"
   ]
  },
  {
   "cell_type": "code",
   "execution_count": 67,
   "metadata": {},
   "outputs": [
    {
     "data": {
      "application/vnd.jupyter.widget-view+json": {
       "model_id": "76db309ca8554f93b33f5b3f354f8e94",
       "version_major": 2,
       "version_minor": 0
      },
      "text/plain": [
       "Filter (num_proc=8):   0%|          | 0/6797834 [00:00<?, ? examples/s]"
      ]
     },
     "metadata": {},
     "output_type": "display_data"
    },
    {
     "data": {
      "text/plain": [
       "DatasetDict({\n",
       "    train: Dataset({\n",
       "        features: ['id', 'url', 'title', 'text'],\n",
       "        num_rows: 1\n",
       "    })\n",
       "})"
      ]
     },
     "execution_count": 67,
     "metadata": {},
     "output_type": "execute_result"
    }
   ],
   "source": [
    "# url.replace(\"-\", \"%20\") 1\n",
    "# url.replace(\"-\", \"%E2%80%93\") 1\n",
    "\n",
    "new_missing_urls = set([url.replace(\"-\", \"%E2%80%93\") for url in missing_urls])\n",
    "\n",
    "additional_entries = wikipedia.filter(lambda x: x[\"url\"] in new_missing_urls, num_proc=8)\n",
    "additional_entries"
   ]
  },
  {
   "cell_type": "code",
   "execution_count": 68,
   "metadata": {},
   "outputs": [],
   "source": [
    "from datasets import concatenate_datasets\n",
    "\n",
    "filtered_wikipedia = concatenate_datasets([filtered_wikipedia, additional_entries['train']])"
   ]
  },
  {
   "cell_type": "code",
   "execution_count": 59,
   "metadata": {},
   "outputs": [
    {
     "ename": "ValueError",
     "evalue": "Expected a list of Dataset objects or a list of IterableDataset objects, but element at position 0 is a dict.",
     "output_type": "error",
     "traceback": [
      "\u001b[0;31m---------------------------------------------------------------------------\u001b[0m",
      "\u001b[0;31mValueError\u001b[0m                                Traceback (most recent call last)",
      "Cell \u001b[0;32mIn[59], line 3\u001b[0m\n\u001b[1;32m      1\u001b[0m \u001b[38;5;28;01mfrom\u001b[39;00m \u001b[38;5;21;01mdatasets\u001b[39;00m \u001b[38;5;28;01mimport\u001b[39;00m concatenate_datasets\n\u001b[0;32m----> 3\u001b[0m filtered_wikipedia \u001b[38;5;241m=\u001b[39m \u001b[43mconcatenate_datasets\u001b[49m\u001b[43m(\u001b[49m\u001b[43mfiltered_wikipedia\u001b[49m\u001b[43m[\u001b[49m\u001b[38;5;124;43m'\u001b[39;49m\u001b[38;5;124;43mtrain\u001b[39;49m\u001b[38;5;124;43m'\u001b[39;49m\u001b[43m]\u001b[49m\u001b[43m,\u001b[49m\u001b[43m \u001b[49m\u001b[43madditional_entries\u001b[49m\u001b[43m[\u001b[49m\u001b[38;5;124;43m'\u001b[39;49m\u001b[38;5;124;43mtrain\u001b[39;49m\u001b[38;5;124;43m'\u001b[39;49m\u001b[43m]\u001b[49m\u001b[43m)\u001b[49m\n",
      "File \u001b[0;32m~/.local/lib/python3.10/site-packages/datasets/combine.py:201\u001b[0m, in \u001b[0;36mconcatenate_datasets\u001b[0;34m(dsets, info, split, axis)\u001b[0m\n\u001b[1;32m    193\u001b[0m             \u001b[38;5;28;01mraise\u001b[39;00m \u001b[38;5;167;01mValueError\u001b[39;00m(\n\u001b[1;32m    194\u001b[0m                 \u001b[38;5;124mf\u001b[39m\u001b[38;5;124m\"\u001b[39m\u001b[38;5;124mExpected a list of Dataset objects or a list of IterableDataset objects, but element at position \u001b[39m\u001b[38;5;132;01m{\u001b[39;00mi\u001b[38;5;132;01m}\u001b[39;00m\u001b[38;5;124m \u001b[39m\u001b[38;5;124m\"\u001b[39m\n\u001b[1;32m    195\u001b[0m                 \u001b[38;5;124m\"\u001b[39m\u001b[38;5;124mis an empty dataset dictionary.\u001b[39m\u001b[38;5;124m\"\u001b[39m\n\u001b[1;32m    196\u001b[0m             )\n\u001b[1;32m    197\u001b[0m         \u001b[38;5;28;01mraise\u001b[39;00m \u001b[38;5;167;01mValueError\u001b[39;00m(\n\u001b[1;32m    198\u001b[0m             \u001b[38;5;124mf\u001b[39m\u001b[38;5;124m\"\u001b[39m\u001b[38;5;124mDataset at position \u001b[39m\u001b[38;5;132;01m{\u001b[39;00mi\u001b[38;5;132;01m}\u001b[39;00m\u001b[38;5;124m has at least one split: \u001b[39m\u001b[38;5;132;01m{\u001b[39;00m\u001b[38;5;28mlist\u001b[39m(dataset)\u001b[38;5;132;01m}\u001b[39;00m\u001b[38;5;130;01m\\n\u001b[39;00m\u001b[38;5;124m\"\u001b[39m\n\u001b[1;32m    199\u001b[0m             \u001b[38;5;124mf\u001b[39m\u001b[38;5;124m\"\u001b[39m\u001b[38;5;124mPlease pick one to interleave with the other datasets, for example: dataset[\u001b[39m\u001b[38;5;124m'\u001b[39m\u001b[38;5;132;01m{\u001b[39;00m\u001b[38;5;28mnext\u001b[39m(\u001b[38;5;28miter\u001b[39m(dataset))\u001b[38;5;132;01m}\u001b[39;00m\u001b[38;5;124m'\u001b[39m\u001b[38;5;124m]\u001b[39m\u001b[38;5;124m\"\u001b[39m\n\u001b[1;32m    200\u001b[0m         )\n\u001b[0;32m--> 201\u001b[0m     \u001b[38;5;28;01mraise\u001b[39;00m \u001b[38;5;167;01mValueError\u001b[39;00m(\n\u001b[1;32m    202\u001b[0m         \u001b[38;5;124mf\u001b[39m\u001b[38;5;124m\"\u001b[39m\u001b[38;5;124mExpected a list of Dataset objects or a list of IterableDataset objects, but element at position \u001b[39m\u001b[38;5;132;01m{\u001b[39;00mi\u001b[38;5;132;01m}\u001b[39;00m\u001b[38;5;124m is a \u001b[39m\u001b[38;5;132;01m{\u001b[39;00m\u001b[38;5;28mtype\u001b[39m(dataset)\u001b[38;5;241m.\u001b[39m\u001b[38;5;18m__name__\u001b[39m\u001b[38;5;132;01m}\u001b[39;00m\u001b[38;5;124m.\u001b[39m\u001b[38;5;124m\"\u001b[39m\n\u001b[1;32m    203\u001b[0m     )\n\u001b[1;32m    204\u001b[0m \u001b[38;5;28;01mif\u001b[39;00m i \u001b[38;5;241m==\u001b[39m \u001b[38;5;241m0\u001b[39m:\n\u001b[1;32m    205\u001b[0m     dataset_type, other_type \u001b[38;5;241m=\u001b[39m (\n\u001b[1;32m    206\u001b[0m         (Dataset, IterableDataset) \u001b[38;5;28;01mif\u001b[39;00m \u001b[38;5;28misinstance\u001b[39m(dataset, Dataset) \u001b[38;5;28;01melse\u001b[39;00m (IterableDataset, Dataset)\n\u001b[1;32m    207\u001b[0m     )\n",
      "\u001b[0;31mValueError\u001b[0m: Expected a list of Dataset objects or a list of IterableDataset objects, but element at position 0 is a dict."
     ]
    }
   ],
   "source": [
    "from datasets import concatenate_datasets\n",
    "\n",
    "filtered_wikipedia = concatenate_datasets([filtered_wikipedia['train'], additional_entries])"
   ]
  },
  {
   "cell_type": "code",
   "execution_count": 52,
   "metadata": {},
   "outputs": [
    {
     "name": "stdout",
     "output_type": "stream",
     "text": [
      "{'id': '840191', 'url': 'https://en.wikipedia.org/wiki/Sagittarius%20A%2A', 'title': 'Sagittarius A*', 'text': 'Sagittarius A* ( ), abbreviated Sgr\\xa0A* ( ), is the supermassive black hole at the Galactic Center of the Milky Way. Viewed from Earth, it is located near the border of the constellations Sagittarius and Scorpius, about 5.6° south of the ecliptic, visually close to the Butterfly Cluster (M6) and Lambda Scorpii.\\n\\nThe object is a bright and very compact astronomical radio source. The name Sagittarius A* distinguishes the compact source from the larger (and much brighter) Sagittarius\\xa0A (Sgr\\xa0A) region in which it is embedded.  Sgr\\xa0A* was discovered in 1974 by  and Robert L. Brown, and the asterisk  was assigned in 1982 by Brown, who understood that the strongest radio emission from the center of the galaxy appeared to be due to a compact nonthermal radio object.\\n\\nThe observations of several stars orbiting Sagittarius A*, particularly star S2, have been used to determine the mass and upper limits on the radius of the object. Based on mass and increasingly precise radius limits, astronomers have concluded that Sagittarius A* must be the central supermassive black hole of the Milky Way galaxy. The current value of its mass is 4.297 million solar masses.\\n\\nReinhard Genzel and Andrea Ghez were awarded the 2020 Nobel Prize in Physics for their discovery that Sagittarius A* is a supermassive compact object, for which a black hole was the only plausible explanation at the time.\\n\\nIn May 2022, astronomers released the first image of the accretion disk around the horizon of Sagittarius A*, confirming it to be a black hole, using the Event Horizon Telescope, a world-wide network of radio observatories. This is the second confirmed image of a black hole, after Messier 87\\'s supermassive black hole in 2019. The black hole itself is not seen, only nearby objects whose behavior is influenced by the black hole. The observed radio and infrared energy emanates from gas and dust heated to millions of degrees while falling into the black hole.\\n\\nObservation and description \\n\\nOn May 12, 2022, the first image of Sagittarius A* was released by the Event Horizon Telescope Collaboration. The image, which is based on radio interferometer data taken in 2017, confirms that the object contains a black hole. This is the second image of a black hole. This image took five years of calculations to process. The data were collected by eight radio observatories at six geographical sites. Radio images are produced from data by aperture synthesis, usually from night long observations of stable sources. The radio emission from Sgr A* varies on the order of minutes, complicating the analysis.\\n\\nTheir result gives an overall angular size for the source of . At a distance of , this yields a diameter of . For comparison, Earth is  from the Sun, and Mercury is  from the Sun at perihelion. The proper motion of Sgr\\xa0A* is approximately −2.70\\xa0mas per year for the right ascension and −5.6\\xa0mas per year for the declination.\\nThe telescope\\'s measurement of these black holes tested Einstein\\'s theory of relativity more rigorously than has previously been done, and the results match perfectly.\\n\\nIn 2019, measurements made with the High-resolution Airborne Wideband Camera-Plus (HAWC+) mounted in the SOFIA aircraft revealed that magnetic fields cause the surrounding ring of gas and dust, temperatures of which range from , to flow into an orbit around Sagittarius A*, keeping black hole emissions low.\\n\\nAstronomers have been unable to observe Sgr\\xa0A* in the optical spectrum because of the effect of 25 magnitudes of extinction by dust and gas between the source and Earth.\\n\\nHistory\\nIn April 1933, Karl Jansky, considered one of the fathers of radio astronomy, discovered that a radio signal was coming from a location in the direction of the constellation of Sagittarius, towards the center of the Milky Way. The radio source later became known as Sagittarius A. His observations did not extend quite as far south as we now know to be the Galactic Center. Observations by Jack Piddington and Harry Minnett using the CSIRO radio telescope at Potts Hill Reservoir, in Sydney discovered a discrete and bright \"Sagittarius-Scorpius\" radio source, which after further observation with the  CSIRO radio telescope at Dover Heights was identified in a letter to Nature as the probable Galactic Center.\\n\\nLater observations showed that Sagittarius A actually consists of several overlapping sub-components; a bright and very compact component, Sgr\\xa0A*, was discovered on February 13 and 15, 1974, by Balick and Robert L Brown using the baseline interferometer of the National Radio Astronomy Observatory. The name Sgr\\xa0A* was coined by Brown in a 1982 paper because the radio source was \"exciting\", and excited states of atoms are denoted with asterisks.\\n\\nSince the 1980s, it has been evident that the central component of Sgr A* is likely a black hole. In 1994, infrared and submillimetre spectroscopy studies by a Berkeley team involving Nobel Laureate Charles H. Townes and future Nobel Prize Winner Reinhard Genzel showed that the mass of Sgr A* was tightly concentrated and on the order of 3 million Suns.\\n\\nOn October 16, 2002, an international team led by Reinhard Genzel at the Max Planck Institute for Extraterrestrial Physics reported the observation of the motion of the star S2 near Sagittarius A* throughout a period of ten years. According to the team\\'s analysis, the data ruled out the possibility that Sgr A* contains a cluster of dark stellar objects or a mass of degenerate fermions, strengthening the evidence for a massive black hole. The observations of S2 used near-infrared (NIR) interferometry (in the Ks-band, i.e. 2.1\\xa0μm) because of reduced interstellar extinction in this band. SiO masers were used to align NIR images with radio observations, as they can be observed in both NIR and radio bands. The rapid motion of S2 (and other nearby stars) easily stood out against slower-moving stars along the line-of-sight so these could be subtracted from the images.\\n\\nThe VLBI radio observations of Sagittarius A* could also be aligned centrally with the NIR images, so the focus of S2\\'s elliptical orbit was found to coincide with the position of Sagittarius A*. From examining the Keplerian orbit of S2, they determined the mass of Sagittarius A* to be  solar masses, confined in a volume with a radius no more than 17 light-hours (). Later observations of the star S14 showed the mass of the object to be about 4.1\\xa0million solar masses within a volume with radius no larger than 6.25 light-hours (). S175 passed within a similar distance. For comparison, the Schwarzschild radius is . They also determined the distance from Earth to the Galactic Center (the rotational center of the Milky Way), which is important in calibrating astronomical distance scales, as . In November 2004, a team of astronomers reported the discovery of a potential intermediate-mass black hole, referred to as GCIRS 13E, orbiting 3 light-years from Sagittarius A*. This black hole of 1,300 solar masses is within a cluster of seven stars. This observation may add support to the idea that supermassive black holes grow by absorbing nearby smaller black holes and stars.\\n\\nAfter monitoring stellar orbits around Sagittarius A* for 16 years, Gillessen et al. estimated the object\\'s mass at  solar masses. The result was announced in 2008 and published in The Astrophysical Journal in 2009. Reinhard Genzel, team leader of the research, said the study has delivered \"what is now considered to be the best empirical evidence that supermassive black holes do really exist. The stellar orbits in the Galactic Center show that the central mass concentration of four million solar masses must be a black hole, beyond any reasonable doubt.\"\\n\\nOn January 5, 2015, NASA reported observing an X-ray flare 400 times brighter than usual, a record-breaker, from Sgr\\xa0A*. The unusual event may have been caused by the breaking apart of an asteroid falling into the black hole or by the entanglement of magnetic field lines within gas flowing into Sgr\\xa0A*, according to astronomers.\\n\\nOn 13 May 2019, astronomers using the Keck Observatory witnessed a sudden brightening of Sgr\\xa0A*, which became 75 times brighter than usual, suggesting that the supermassive black hole may have encountered another object.\\n\\nIn June 2023, unexplained filaments of radio energy were found associated with Sagittarius A*.\\n\\nCentral black hole\\nIn a paper published on October 31, 2018, the discovery of conclusive evidence that Sagittarius A* is a black hole was announced. Using the GRAVITY interferometer and the four telescopes of the Very Large Telescope (VLT) to create a virtual telescope  in diameter, astronomers detected clumps of gas moving at about 30% of the speed of light. Emission from highly energetic electrons very close to the black hole was visible as three prominent bright flares. These exactly match theoretical predictions for hot spots orbiting close to a black hole of four million solar masses. The flares are thought to originate from magnetic interactions in the very hot gas orbiting very close to Sagittarius A*.\\n\\nIn July 2018, it was reported that S2 orbiting Sgr\\xa0A* had been recorded at , or 2.55% the speed of light, leading up to the pericenter approach, in May 2018, at about  (approximately 1,400 Schwarzschild radii) from Sgr\\xa0A*. At that close distance to the black hole, Einstein\\'s theory of general relativity (GR) predicts that S2 would show a discernible gravitational redshift in addition to the usual velocity redshift; the gravitational redshift was detected, in agreement with the GR prediction within the 10 percent measurement precision.\\n\\nAssuming that general relativity is still a valid description of gravity near the event horizon, the Sagittarius A* radio emissions are not centered on the black hole, but arise from a bright spot in the region around the black hole, close to the event horizon, possibly in the accretion disc, or a relativistic jet of material ejected from the disc. If the apparent position of Sagittarius A* were exactly centered on the black hole, it would be possible to see it magnified beyond its size, because of gravitational lensing of the black hole. According to general relativity, this would result in a ring-like structure, which has a diameter about 5.2 times the black hole\\'s Schwarzschild radius (10 μas). For a black hole of around 4\\xa0million solar masses, this corresponds to a size of approximately 52\\xa0μas, which is consistent with the observed overall size of about 50\\xa0μas, the size (apparent diameter) of the black hole Sgr A* itself being 20 μas.\\n\\nRecent lower resolution observations revealed that the radio source of Sagittarius A* is symmetrical. Simulations of alternative theories of gravity depict results that may be difficult to distinguish from GR. However, a 2018 paper predicts an image of Sagittarius A* that is in agreement with recent observations; in particular, it explains the small angular size and the symmetrical morphology of the source.\\n\\nThe mass of Sagittarius A* has been estimated in two different ways:\\n\\nTwo groups—in Germany and the U.S.—monitored the orbits of individual stars very near to the black hole and used Kepler\\'s laws to infer the enclosed mass. The German group found a mass of  solar masses, whereas the American group found  solar masses. Given that this mass is confined inside a 44-million-kilometre-diameter sphere, this yields a density ten times higher than previous estimates.\\nMore recently, measurement of the proper motions of a sample of several thousand stars within approximately one parsec from the black hole, combined with a statistical technique, has yielded both an estimate of the black hole\\'s mass at  , plus a distributed mass in the central parsec amounting to  . The latter is thought to be composed of stars and stellar remnants.\\n\\nThe comparatively small mass of this supermassive black hole, along with the low luminosity of the radio and infrared emission lines, imply that the Milky Way is not a Seyfert galaxy.\\n\\nUltimately, what is seen is not the black hole itself, but observations that are consistent only if there is a black hole present near Sgr\\xa0A*. In the case of such a black hole, the observed radio and infrared energy emanates from gas and dust heated to millions of degrees while falling into the black hole. The black hole itself is thought to emit only Hawking radiation at a negligible temperature, on the order of 10−14 kelvin.\\n\\nThe European Space Agency\\'s gamma-ray observatory INTEGRAL observed gamma rays interacting with the nearby giant molecular cloud Sagittarius B2, causing X-ray emission from the cloud. The total luminosity from this outburst (≈1,5 erg/s) is estimated to be a million times stronger than the current output from Sgr A* and is comparable with a typical active galactic nucleus. In 2011 this conclusion was supported by Japanese astronomers observing the Milky Way\\'s center with the Suzaku satellite.\\n\\nIn July 2019, astronomers reported finding a star, S5-HVS1, traveling  or 0.006 c. The star is in the Grus (or Crane) constellation in the southern sky, and about 29,000 light-years from Earth, and may have been propelled out of the Milky Way galaxy after interacting with Sagittarius A*.\\n\\nSeveral values have been given for its spin parameter  some examples are Fragione & Loeb (2020) , Belanger et al. (2006) , Meyer et al. (2006) , Genzel et al. (2003)  and Daly et al. (2023) .\\n\\nOrbiting stars\\n\\nThere are a number of stars in close orbit around Sagittarius A*, which are collectively known as \"S stars\". These stars are observed primarily in K band infrared wavelengths, as interstellar dust drastically limits visibility in visible wavelengths. This is a rapidly changing field—in 2011, the orbits of the most prominent stars then known were plotted in the diagram at left, showing a comparison between their orbits and various orbits in the solar system. Since then, S62 has been found to approach even more closely than those stars.\\n\\nThe high velocities and close approaches to the supermassive black hole makes these stars useful to establish limits on the physical dimensions of Sagittarius A*, as well as to observe general-relativity associated effects like periapse shift of their orbits. An active watch is maintained for the possibility of stars approaching the event horizon close enough to be disrupted, but none of these stars are expected to suffer that fate.\\n\\n, S4714 is the current record holder of closest approach to Sagittarius A*, at about , almost as close as Saturn gets to the Sun, traveling at about 8% of the speed of light. These figures given are approximate, the formal uncertainties being  and . Its orbital period is 12 years, but an extreme eccentricity of 0.985 gives it the close approach and high velocity.\\n\\nAn excerpt from a table of this cluster (see Sagittarius A* cluster), featuring the most prominent members. In the below table, id1 is the star\\'s name in the Gillessen catalog and id2 in the catalog of the University of California, Los Angeles. a, e, i, Ω and ω are standard orbital elements, with a measured in arcseconds. Tp is the epoch of pericenter passage, P is the orbital period in years and Kmag is the infrared K-band apparent magnitude of the star. q and v are the pericenter distance in AU and pericenter speed in percent of the speed of light.\\n\\nDiscovery of G2 gas cloud on an accretion course\\n\\nFirst noticed as something unusual in images of the center of the Milky Way in 2002, the gas cloud G2, which has a mass about three times that of Earth, was confirmed to be likely on a course taking it into the accretion zone of Sgr A* in a paper published in Nature in 2012. Predictions of its orbit suggested it would make its closest approach to the black hole (a perinigricon) in early 2014, when the cloud was at a distance of just over 3,000 times the radius of the event horizon (or ≈260 AU, 36 light-hours) from the black hole. G2 has been observed to be disrupting since 2009, and was predicted by some to be completely destroyed by the encounter, which could have led to a significant brightening of X-ray and other emission from the black hole. Other astronomers suggested the gas cloud could be hiding a dim star, or a binary star merger product, which would hold it together against the tidal forces of Sgr A*, allowing the ensemble to pass by without any effect. In addition to the tidal effects on the cloud itself, it was proposed in May 2013 that, prior to its perinigricon, G2 might experience multiple close encounters with members of the black-hole and neutron-star populations thought to orbit near the Galactic Center, offering some insight to the region surrounding the supermassive black hole at the center of the Milky Way.\\n\\nThe average rate of accretion onto Sgr A* is unusually small for a black hole of its mass and is only detectable because it is so close to Earth. It was thought that the passage of G2 in 2013 might offer astronomers the chance to learn much more about how material accretes onto supermassive black holes. Several astronomical facilities observed this closest approach, with observations confirmed with Chandra, XMM, VLA, INTEGRAL, Swift, Fermi and requested at VLT and Keck.\\n\\nSimulations of the passage were made before it happened by groups at ESO and Lawrence Livermore National Laboratory (LLNL).\\n\\nAs the cloud approached the black hole, Daryl Haggard said, \"It\\'s exciting to have something that feels more like an experiment\", and hoped that the interaction would produce effects that would provide new information and insights.\\n\\nNothing was observed during and after the closest approach of the cloud to the black hole, which was described as a lack of \"fireworks\" and a \"flop\". Astronomers from the UCLA Galactic Center Group published observations obtained on March 19 and 20, 2014, concluding that G2 was still intact (in contrast to predictions for a simple gas cloud hypothesis) and that the cloud was likely to have a central star.\\n\\nAn analysis published on July 21, 2014, based on observations by the ESO\\'s Very Large Telescope in Chile, concluded alternatively that the cloud, rather than being isolated, might be a dense clump within a continuous but thinner stream of matter, and would act as a constant breeze on the disk of matter orbiting the black hole, rather than sudden gusts that would have caused high brightness as they hit, as originally expected. Supporting this hypothesis, G1, a cloud that passed near the black hole 13 years ago, had an orbit almost identical to G2, consistent with both clouds, and a gas tail thought to be trailing G2, all being denser clumps within a large single gas stream.\\n\\nProfessor Andrea Ghez et al. suggested in 2014 that G2 is not a gas cloud but rather a pair of binary stars that had been orbiting the black hole in tandem and merged into an extremely large star.\\n\\nSee also\\n \\n List of nearest known black holes\\n\\nNotes\\n\\nReferences\\n\\nFurther reading\\n\\nExternal links\\n\\n  Is there a Supermassive Black Hole at the Center of the Milky Way? (arXiv preprint)\\n 2004 paper deducing mass of central black hole from orbits of 7 stars (arXiv preprint)\\n ESO video clip of orbiting star (533 KB MPEG Video)\\n The Proper Motion of Sgr A* and the Mass of Sgr A* (PDF)\\n NRAO article regarding VLBI radio imaging of Sgr A*\\n Peering into a Black Hole, 2015 New York Times video\\n Image of supermassive black hole Sagittarius A* (2022), Harvard Center for Astrophysics\\n  (NSF; 12 May 2022)\\n\\nArticles containing video clips\\nAstronomical objects discovered in 1974\\nAstronomical radio sources\\nSupermassive black holes\\nGalactic Center'}\n"
     ]
    }
   ],
   "source": [
    "print(additional_entries['train'][1])"
   ]
  },
  {
   "cell_type": "code",
   "execution_count": 55,
   "metadata": {},
   "outputs": [
    {
     "data": {
      "application/vnd.jupyter.widget-view+json": {
       "model_id": "dbfea84199a0478cb2f8f85896cd7673",
       "version_major": 2,
       "version_minor": 0
      },
      "text/plain": [
       "Filter (num_proc=8):   0%|          | 0/6797834 [00:00<?, ? examples/s]"
      ]
     },
     "metadata": {},
     "output_type": "display_data"
    },
    {
     "data": {
      "text/plain": [
       "DatasetDict({\n",
       "    train: Dataset({\n",
       "        features: ['id', 'url', 'title', 'text'],\n",
       "        num_rows: 1\n",
       "    })\n",
       "})"
      ]
     },
     "execution_count": 55,
     "metadata": {},
     "output_type": "execute_result"
    }
   ],
   "source": [
    "data = wikipedia.filter(lambda x: 'https://en.wikipedia.org/wiki/History%20of%20agriculture' == x['url'], num_proc=8)\n",
    "data"
   ]
  },
  {
   "cell_type": "code",
   "execution_count": 62,
   "metadata": {},
   "outputs": [],
   "source": [
    "from datasets import concatenate_datasets\n",
    "\n",
    "filtered_wikipedia = concatenate_datasets([filtered_wikipedia['train'], additional_entries['train'], data['train']])"
   ]
  },
  {
   "cell_type": "code",
   "execution_count": 54,
   "metadata": {},
   "outputs": [
    {
     "name": "stdout",
     "output_type": "stream",
     "text": [
      "https://en.wikipedia.org/wiki/History%20of%20agriculture%20in%20the%20United%20States\n",
      "https://en.wikipedia.org/wiki/History%20of%20agriculture\n",
      "https://en.wikipedia.org/wiki/History%20of%20agriculture%20in%20China\n",
      "https://en.wikipedia.org/wiki/History%20of%20agriculture%20in%20the%20Indian%20subcontinent\n",
      "https://en.wikipedia.org/wiki/History%20of%20agriculture%20in%20Cheshire\n",
      "https://en.wikipedia.org/wiki/History%20of%20agriculture%20in%20Scotland\n",
      "https://en.wikipedia.org/wiki/History%20of%20agriculture%20in%20Canada\n",
      "https://en.wikipedia.org/wiki/History%20of%20agriculture%20in%20Chile\n",
      "https://en.wikipedia.org/wiki/History%20of%20agriculture%20in%20Argentina\n",
      "https://en.wikipedia.org/wiki/History%20of%20agriculture%20in%20Palestine\n"
     ]
    }
   ],
   "source": [
    "for d in data['train']:\n",
    "    print(d['url']) "
   ]
  },
  {
   "cell_type": "code",
   "execution_count": 70,
   "metadata": {},
   "outputs": [
    {
     "data": {
      "application/vnd.jupyter.widget-view+json": {
       "model_id": "8b6c9b20fabf43aa8b82429806b33731",
       "version_major": 2,
       "version_minor": 0
      },
      "text/plain": [
       "Uploading the dataset shards:   0%|          | 0/1 [00:00<?, ?it/s]"
      ]
     },
     "metadata": {},
     "output_type": "display_data"
    },
    {
     "data": {
      "application/vnd.jupyter.widget-view+json": {
       "model_id": "23d32f80393741aa9820ffb2d033a5d7",
       "version_major": 2,
       "version_minor": 0
      },
      "text/plain": [
       "Creating parquet from Arrow format:   0%|          | 0/50 [00:00<?, ?ba/s]"
      ]
     },
     "metadata": {},
     "output_type": "display_data"
    }
   ],
   "source": [
    "filtered_wikipedia.push_to_hub(\"vital_wikipedia_articles\")"
   ]
  },
  {
   "cell_type": "code",
   "execution_count": 71,
   "metadata": {},
   "outputs": [
    {
     "data": {
      "application/vnd.jupyter.widget-view+json": {
       "model_id": "47a42b3f85744405932aa49f0687970f",
       "version_major": 2,
       "version_minor": 0
      },
      "text/plain": [
       "Uploading the dataset shards:   0%|          | 0/45 [00:00<?, ?it/s]"
      ]
     },
     "metadata": {},
     "output_type": "display_data"
    },
    {
     "data": {
      "application/vnd.jupyter.widget-view+json": {
       "model_id": "a2e07320f6e44f4ca554b1b228bb9adc",
       "version_major": 2,
       "version_minor": 0
      },
      "text/plain": [
       "Creating parquet from Arrow format:   0%|          | 0/152 [00:00<?, ?ba/s]"
      ]
     },
     "metadata": {},
     "output_type": "display_data"
    },
    {
     "data": {
      "application/vnd.jupyter.widget-view+json": {
       "model_id": "73df82de963d4650b21a832952ac5d2e",
       "version_major": 2,
       "version_minor": 0
      },
      "text/plain": [
       "Creating parquet from Arrow format:   0%|          | 0/152 [00:00<?, ?ba/s]"
      ]
     },
     "metadata": {},
     "output_type": "display_data"
    },
    {
     "data": {
      "application/vnd.jupyter.widget-view+json": {
       "model_id": "997649c016fd475fa8a7e6aeab353883",
       "version_major": 2,
       "version_minor": 0
      },
      "text/plain": [
       "Creating parquet from Arrow format:   0%|          | 0/152 [00:00<?, ?ba/s]"
      ]
     },
     "metadata": {},
     "output_type": "display_data"
    },
    {
     "data": {
      "application/vnd.jupyter.widget-view+json": {
       "model_id": "9374d62352e24fe985cbd5d8690a4b18",
       "version_major": 2,
       "version_minor": 0
      },
      "text/plain": [
       "Creating parquet from Arrow format:   0%|          | 0/152 [00:00<?, ?ba/s]"
      ]
     },
     "metadata": {},
     "output_type": "display_data"
    },
    {
     "data": {
      "application/vnd.jupyter.widget-view+json": {
       "model_id": "8abf12b0e4694f2f9eebec85192f2784",
       "version_major": 2,
       "version_minor": 0
      },
      "text/plain": [
       "Creating parquet from Arrow format:   0%|          | 0/152 [00:00<?, ?ba/s]"
      ]
     },
     "metadata": {},
     "output_type": "display_data"
    },
    {
     "data": {
      "application/vnd.jupyter.widget-view+json": {
       "model_id": "5a334ddade76471fba2c4ee975d5d189",
       "version_major": 2,
       "version_minor": 0
      },
      "text/plain": [
       "Creating parquet from Arrow format:   0%|          | 0/152 [00:00<?, ?ba/s]"
      ]
     },
     "metadata": {},
     "output_type": "display_data"
    },
    {
     "data": {
      "application/vnd.jupyter.widget-view+json": {
       "model_id": "9a4bee53f7cf492b98596868118cbcd3",
       "version_major": 2,
       "version_minor": 0
      },
      "text/plain": [
       "Creating parquet from Arrow format:   0%|          | 0/152 [00:00<?, ?ba/s]"
      ]
     },
     "metadata": {},
     "output_type": "display_data"
    },
    {
     "data": {
      "application/vnd.jupyter.widget-view+json": {
       "model_id": "14e799540ef84900845aa385f3eef70e",
       "version_major": 2,
       "version_minor": 0
      },
      "text/plain": [
       "Creating parquet from Arrow format:   0%|          | 0/152 [00:00<?, ?ba/s]"
      ]
     },
     "metadata": {},
     "output_type": "display_data"
    },
    {
     "data": {
      "application/vnd.jupyter.widget-view+json": {
       "model_id": "d8743f7066c7403fa0b3521b2f7b69d0",
       "version_major": 2,
       "version_minor": 0
      },
      "text/plain": [
       "Creating parquet from Arrow format:   0%|          | 0/152 [00:00<?, ?ba/s]"
      ]
     },
     "metadata": {},
     "output_type": "display_data"
    },
    {
     "data": {
      "application/vnd.jupyter.widget-view+json": {
       "model_id": "b97fac987be5405ead61a615c0c49aa3",
       "version_major": 2,
       "version_minor": 0
      },
      "text/plain": [
       "Creating parquet from Arrow format:   0%|          | 0/152 [00:00<?, ?ba/s]"
      ]
     },
     "metadata": {},
     "output_type": "display_data"
    },
    {
     "data": {
      "application/vnd.jupyter.widget-view+json": {
       "model_id": "cd6d248757344f2c8d5363378ba3beb5",
       "version_major": 2,
       "version_minor": 0
      },
      "text/plain": [
       "Creating parquet from Arrow format:   0%|          | 0/152 [00:00<?, ?ba/s]"
      ]
     },
     "metadata": {},
     "output_type": "display_data"
    },
    {
     "data": {
      "application/vnd.jupyter.widget-view+json": {
       "model_id": "fdfd9deba0224744b8e152d1029a9bbc",
       "version_major": 2,
       "version_minor": 0
      },
      "text/plain": [
       "Creating parquet from Arrow format:   0%|          | 0/152 [00:00<?, ?ba/s]"
      ]
     },
     "metadata": {},
     "output_type": "display_data"
    },
    {
     "data": {
      "application/vnd.jupyter.widget-view+json": {
       "model_id": "72176476fdbf437db57de531325eaae1",
       "version_major": 2,
       "version_minor": 0
      },
      "text/plain": [
       "Creating parquet from Arrow format:   0%|          | 0/152 [00:00<?, ?ba/s]"
      ]
     },
     "metadata": {},
     "output_type": "display_data"
    },
    {
     "data": {
      "application/vnd.jupyter.widget-view+json": {
       "model_id": "db10d3f848b241fdb42ba19eb2764337",
       "version_major": 2,
       "version_minor": 0
      },
      "text/plain": [
       "Creating parquet from Arrow format:   0%|          | 0/152 [00:00<?, ?ba/s]"
      ]
     },
     "metadata": {},
     "output_type": "display_data"
    },
    {
     "data": {
      "application/vnd.jupyter.widget-view+json": {
       "model_id": "2906055ec8734cf291ab239a2b23f827",
       "version_major": 2,
       "version_minor": 0
      },
      "text/plain": [
       "Creating parquet from Arrow format:   0%|          | 0/152 [00:00<?, ?ba/s]"
      ]
     },
     "metadata": {},
     "output_type": "display_data"
    },
    {
     "data": {
      "application/vnd.jupyter.widget-view+json": {
       "model_id": "54cd44089dd344d68a7935d62075a172",
       "version_major": 2,
       "version_minor": 0
      },
      "text/plain": [
       "Creating parquet from Arrow format:   0%|          | 0/152 [00:00<?, ?ba/s]"
      ]
     },
     "metadata": {},
     "output_type": "display_data"
    },
    {
     "data": {
      "application/vnd.jupyter.widget-view+json": {
       "model_id": "a6d71b2f8ecc4c4c95cbae8160258eda",
       "version_major": 2,
       "version_minor": 0
      },
      "text/plain": [
       "Creating parquet from Arrow format:   0%|          | 0/152 [00:00<?, ?ba/s]"
      ]
     },
     "metadata": {},
     "output_type": "display_data"
    },
    {
     "data": {
      "application/vnd.jupyter.widget-view+json": {
       "model_id": "f410b0dd56e94eb0815de0dda41db1d5",
       "version_major": 2,
       "version_minor": 0
      },
      "text/plain": [
       "Creating parquet from Arrow format:   0%|          | 0/152 [00:00<?, ?ba/s]"
      ]
     },
     "metadata": {},
     "output_type": "display_data"
    },
    {
     "data": {
      "application/vnd.jupyter.widget-view+json": {
       "model_id": "652223d7740c47f7bb921f807dce40b6",
       "version_major": 2,
       "version_minor": 0
      },
      "text/plain": [
       "Creating parquet from Arrow format:   0%|          | 0/152 [00:00<?, ?ba/s]"
      ]
     },
     "metadata": {},
     "output_type": "display_data"
    },
    {
     "data": {
      "application/vnd.jupyter.widget-view+json": {
       "model_id": "aa374741463b4d628f07620a036a6d91",
       "version_major": 2,
       "version_minor": 0
      },
      "text/plain": [
       "Creating parquet from Arrow format:   0%|          | 0/152 [00:00<?, ?ba/s]"
      ]
     },
     "metadata": {},
     "output_type": "display_data"
    },
    {
     "data": {
      "application/vnd.jupyter.widget-view+json": {
       "model_id": "f875a66c6ef24a91a414de96b883c8fa",
       "version_major": 2,
       "version_minor": 0
      },
      "text/plain": [
       "Creating parquet from Arrow format:   0%|          | 0/152 [00:00<?, ?ba/s]"
      ]
     },
     "metadata": {},
     "output_type": "display_data"
    },
    {
     "data": {
      "application/vnd.jupyter.widget-view+json": {
       "model_id": "465801b44a844072b43815da9d3b16db",
       "version_major": 2,
       "version_minor": 0
      },
      "text/plain": [
       "Creating parquet from Arrow format:   0%|          | 0/152 [00:00<?, ?ba/s]"
      ]
     },
     "metadata": {},
     "output_type": "display_data"
    },
    {
     "data": {
      "application/vnd.jupyter.widget-view+json": {
       "model_id": "c7747e69568843f2acfb588e28c1a833",
       "version_major": 2,
       "version_minor": 0
      },
      "text/plain": [
       "Creating parquet from Arrow format:   0%|          | 0/152 [00:00<?, ?ba/s]"
      ]
     },
     "metadata": {},
     "output_type": "display_data"
    },
    {
     "data": {
      "application/vnd.jupyter.widget-view+json": {
       "model_id": "b040a44a4c83420eae28c27abcbcedab",
       "version_major": 2,
       "version_minor": 0
      },
      "text/plain": [
       "Creating parquet from Arrow format:   0%|          | 0/152 [00:00<?, ?ba/s]"
      ]
     },
     "metadata": {},
     "output_type": "display_data"
    },
    {
     "data": {
      "application/vnd.jupyter.widget-view+json": {
       "model_id": "ee1e9666e5924a908bb68891e135a2a8",
       "version_major": 2,
       "version_minor": 0
      },
      "text/plain": [
       "Creating parquet from Arrow format:   0%|          | 0/152 [00:00<?, ?ba/s]"
      ]
     },
     "metadata": {},
     "output_type": "display_data"
    },
    {
     "data": {
      "application/vnd.jupyter.widget-view+json": {
       "model_id": "6d1919db1e0e49b6891a6285152b37b5",
       "version_major": 2,
       "version_minor": 0
      },
      "text/plain": [
       "Creating parquet from Arrow format:   0%|          | 0/152 [00:00<?, ?ba/s]"
      ]
     },
     "metadata": {},
     "output_type": "display_data"
    },
    {
     "data": {
      "application/vnd.jupyter.widget-view+json": {
       "model_id": "f1af8f323822444a8f01f6dd9363e546",
       "version_major": 2,
       "version_minor": 0
      },
      "text/plain": [
       "Creating parquet from Arrow format:   0%|          | 0/152 [00:00<?, ?ba/s]"
      ]
     },
     "metadata": {},
     "output_type": "display_data"
    },
    {
     "data": {
      "application/vnd.jupyter.widget-view+json": {
       "model_id": "b7529e96032e41a8bd236f775b8e7317",
       "version_major": 2,
       "version_minor": 0
      },
      "text/plain": [
       "Creating parquet from Arrow format:   0%|          | 0/152 [00:00<?, ?ba/s]"
      ]
     },
     "metadata": {},
     "output_type": "display_data"
    },
    {
     "data": {
      "application/vnd.jupyter.widget-view+json": {
       "model_id": "58fa52505acd4d27ac6db9e8e74ce2b0",
       "version_major": 2,
       "version_minor": 0
      },
      "text/plain": [
       "Creating parquet from Arrow format:   0%|          | 0/152 [00:00<?, ?ba/s]"
      ]
     },
     "metadata": {},
     "output_type": "display_data"
    },
    {
     "data": {
      "application/vnd.jupyter.widget-view+json": {
       "model_id": "3f19e9b4ee734d50a6d15eddaa8a81ad",
       "version_major": 2,
       "version_minor": 0
      },
      "text/plain": [
       "Creating parquet from Arrow format:   0%|          | 0/152 [00:00<?, ?ba/s]"
      ]
     },
     "metadata": {},
     "output_type": "display_data"
    },
    {
     "data": {
      "application/vnd.jupyter.widget-view+json": {
       "model_id": "16c7929aef4a4dd180e0ff89d0492b8a",
       "version_major": 2,
       "version_minor": 0
      },
      "text/plain": [
       "Creating parquet from Arrow format:   0%|          | 0/152 [00:00<?, ?ba/s]"
      ]
     },
     "metadata": {},
     "output_type": "display_data"
    },
    {
     "data": {
      "application/vnd.jupyter.widget-view+json": {
       "model_id": "336250dd35a8412f8e8b9073bc78028d",
       "version_major": 2,
       "version_minor": 0
      },
      "text/plain": [
       "Creating parquet from Arrow format:   0%|          | 0/152 [00:00<?, ?ba/s]"
      ]
     },
     "metadata": {},
     "output_type": "display_data"
    },
    {
     "data": {
      "application/vnd.jupyter.widget-view+json": {
       "model_id": "cb9021a4488041a8a0f9be95ea31ab5c",
       "version_major": 2,
       "version_minor": 0
      },
      "text/plain": [
       "Creating parquet from Arrow format:   0%|          | 0/152 [00:00<?, ?ba/s]"
      ]
     },
     "metadata": {},
     "output_type": "display_data"
    },
    {
     "data": {
      "application/vnd.jupyter.widget-view+json": {
       "model_id": "556014e97c294cddbce8a7333de92210",
       "version_major": 2,
       "version_minor": 0
      },
      "text/plain": [
       "Creating parquet from Arrow format:   0%|          | 0/152 [00:00<?, ?ba/s]"
      ]
     },
     "metadata": {},
     "output_type": "display_data"
    },
    {
     "data": {
      "application/vnd.jupyter.widget-view+json": {
       "model_id": "91c4a0d1fea147aab8fc30fb961c11ae",
       "version_major": 2,
       "version_minor": 0
      },
      "text/plain": [
       "Creating parquet from Arrow format:   0%|          | 0/152 [00:00<?, ?ba/s]"
      ]
     },
     "metadata": {},
     "output_type": "display_data"
    },
    {
     "data": {
      "application/vnd.jupyter.widget-view+json": {
       "model_id": "66c56c32104b44dda6ae5622816cb0b6",
       "version_major": 2,
       "version_minor": 0
      },
      "text/plain": [
       "Creating parquet from Arrow format:   0%|          | 0/152 [00:00<?, ?ba/s]"
      ]
     },
     "metadata": {},
     "output_type": "display_data"
    },
    {
     "data": {
      "application/vnd.jupyter.widget-view+json": {
       "model_id": "b87433ed2d474b028aa7a39c9ade74fd",
       "version_major": 2,
       "version_minor": 0
      },
      "text/plain": [
       "Creating parquet from Arrow format:   0%|          | 0/152 [00:00<?, ?ba/s]"
      ]
     },
     "metadata": {},
     "output_type": "display_data"
    },
    {
     "data": {
      "application/vnd.jupyter.widget-view+json": {
       "model_id": "c5d9267d870a497fba17e4350a417a67",
       "version_major": 2,
       "version_minor": 0
      },
      "text/plain": [
       "Creating parquet from Arrow format:   0%|          | 0/152 [00:00<?, ?ba/s]"
      ]
     },
     "metadata": {},
     "output_type": "display_data"
    },
    {
     "data": {
      "application/vnd.jupyter.widget-view+json": {
       "model_id": "a65af5f5e93d4fe2a5a05df763250ab4",
       "version_major": 2,
       "version_minor": 0
      },
      "text/plain": [
       "Creating parquet from Arrow format:   0%|          | 0/152 [00:00<?, ?ba/s]"
      ]
     },
     "metadata": {},
     "output_type": "display_data"
    },
    {
     "data": {
      "application/vnd.jupyter.widget-view+json": {
       "model_id": "bb9c797ae155492db991cd30eaa02fd2",
       "version_major": 2,
       "version_minor": 0
      },
      "text/plain": [
       "Creating parquet from Arrow format:   0%|          | 0/152 [00:00<?, ?ba/s]"
      ]
     },
     "metadata": {},
     "output_type": "display_data"
    },
    {
     "data": {
      "application/vnd.jupyter.widget-view+json": {
       "model_id": "b4d877abd993472583a4fea18cae8bde",
       "version_major": 2,
       "version_minor": 0
      },
      "text/plain": [
       "Creating parquet from Arrow format:   0%|          | 0/152 [00:00<?, ?ba/s]"
      ]
     },
     "metadata": {},
     "output_type": "display_data"
    },
    {
     "data": {
      "application/vnd.jupyter.widget-view+json": {
       "model_id": "874326bfd5954ab681a2e5686d25278c",
       "version_major": 2,
       "version_minor": 0
      },
      "text/plain": [
       "Creating parquet from Arrow format:   0%|          | 0/152 [00:00<?, ?ba/s]"
      ]
     },
     "metadata": {},
     "output_type": "display_data"
    },
    {
     "data": {
      "application/vnd.jupyter.widget-view+json": {
       "model_id": "7b778fdff8794921ac7a133671b71db3",
       "version_major": 2,
       "version_minor": 0
      },
      "text/plain": [
       "Creating parquet from Arrow format:   0%|          | 0/152 [00:00<?, ?ba/s]"
      ]
     },
     "metadata": {},
     "output_type": "display_data"
    },
    {
     "data": {
      "application/vnd.jupyter.widget-view+json": {
       "model_id": "47c83b6b0b9542108f01c17e0040ee38",
       "version_major": 2,
       "version_minor": 0
      },
      "text/plain": [
       "Creating parquet from Arrow format:   0%|          | 0/152 [00:00<?, ?ba/s]"
      ]
     },
     "metadata": {},
     "output_type": "display_data"
    },
    {
     "data": {
      "application/vnd.jupyter.widget-view+json": {
       "model_id": "b48a7e4dcb3e42c4892962ef8c46847c",
       "version_major": 2,
       "version_minor": 0
      },
      "text/plain": [
       "Creating parquet from Arrow format:   0%|          | 0/152 [00:00<?, ?ba/s]"
      ]
     },
     "metadata": {},
     "output_type": "display_data"
    },
    {
     "data": {
      "application/vnd.jupyter.widget-view+json": {
       "model_id": "fb7ec206de3541a9a4024a9cdd5668d3",
       "version_major": 2,
       "version_minor": 0
      },
      "text/plain": [
       "README.md:   0%|          | 0.00/140 [00:00<?, ?B/s]"
      ]
     },
     "metadata": {},
     "output_type": "display_data"
    }
   ],
   "source": [
    "wikipedia.push_to_hub(\"wikipedia_20240320\")"
   ]
  },
  {
   "cell_type": "code",
   "execution_count": null,
   "metadata": {},
   "outputs": [],
   "source": []
  }
 ],
 "metadata": {
  "kernelspec": {
   "display_name": "Python 3",
   "language": "python",
   "name": "python3"
  },
  "language_info": {
   "codemirror_mode": {
    "name": "ipython",
    "version": 3
   },
   "file_extension": ".py",
   "mimetype": "text/x-python",
   "name": "python",
   "nbconvert_exporter": "python",
   "pygments_lexer": "ipython3",
   "version": "3.undefined.undefined"
  }
 },
 "nbformat": 4,
 "nbformat_minor": 2
}
